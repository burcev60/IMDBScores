{
 "cells": [
  {
   "cell_type": "code",
   "execution_count": 2,
   "id": "0a18dc3e-378e-41f8-bcfd-86c6cff0ab8f",
   "metadata": {},
   "outputs": [],
   "source": [
    "import pandas as pd\n",
    "import numpy as np"
   ]
  },
  {
   "cell_type": "code",
   "execution_count": 3,
   "id": "a13743b9-98cf-431c-a27b-d3a08e22f682",
   "metadata": {},
   "outputs": [],
   "source": [
    "data_train = pd.read_csv('data_train.csv')\n",
    "data_test = pd.read_csv('data_test.csv')"
   ]
  },
  {
   "cell_type": "code",
   "execution_count": 16,
   "id": "8e4fbc19-8370-402b-b0e4-c6607b60046c",
   "metadata": {},
   "outputs": [],
   "source": [
    "data_train['train_text'] = data_train['train_text'].fillna('')\n",
    "data_train['train_labels'] = data_train['train_labels'].fillna('')\n",
    "data_test['test_text'] = data_test['test_text'].fillna('')\n",
    "data_test['test_labels'] = data_test['test_labels'].fillna('')"
   ]
  },
  {
   "cell_type": "code",
   "execution_count": 17,
   "id": "99374dc6-cb15-463e-920f-410be4459caf",
   "metadata": {},
   "outputs": [],
   "source": [
    "X_train = data_train['train_text']\n",
    "y_train = data_train['train_labels']\n",
    "X_test = data_test['test_text']\n",
    "y_test = data_test['test_labels']"
   ]
  },
  {
   "cell_type": "code",
   "execution_count": 18,
   "id": "81e020f6-f20b-4d56-a5d6-0c8e1433bdaa",
   "metadata": {},
   "outputs": [],
   "source": [
    "from sklearn.feature_extraction.text import TfidfVectorizer\n",
    "vectorizer = TfidfVectorizer()\n",
    "X_train_tfidf = vectorizer.fit_transform(X_train)\n"
   ]
  },
  {
   "cell_type": "code",
   "execution_count": 19,
   "id": "3c9f40ae-795a-46cb-8baf-d2c25b67ff88",
   "metadata": {},
   "outputs": [],
   "source": [
    "X_test_tfidf = vectorizer.transform(X_test)"
   ]
  },
  {
   "cell_type": "code",
   "execution_count": 20,
   "id": "f9408320-c3b4-4d31-a5ca-4c5b96c6ce2f",
   "metadata": {},
   "outputs": [
    {
     "name": "stdout",
     "output_type": "stream",
     "text": [
      "              precision    recall  f1-score   support\n",
      "\n",
      "           1       0.30      0.98      0.46      5022\n",
      "           2       0.00      0.00      0.00      2302\n",
      "           3       0.00      0.00      0.00      2541\n",
      "           4       0.00      0.00      0.00      2635\n",
      "           7       0.00      0.00      0.00      2307\n",
      "           8       0.00      0.00      0.00      2850\n",
      "           9       0.00      0.00      0.00      2344\n",
      "          10       0.40      0.70      0.51      4999\n",
      "\n",
      "    accuracy                           0.34     25000\n",
      "   macro avg       0.09      0.21      0.12     25000\n",
      "weighted avg       0.14      0.34      0.19     25000\n",
      "\n"
     ]
    },
    {
     "name": "stderr",
     "output_type": "stream",
     "text": [
      "C:\\Users\\burce\\anaconda3\\envs\\sklearn-env\\Lib\\site-packages\\sklearn\\metrics\\_classification.py:1531: UndefinedMetricWarning: Precision is ill-defined and being set to 0.0 in labels with no predicted samples. Use `zero_division` parameter to control this behavior.\n",
      "  _warn_prf(average, modifier, f\"{metric.capitalize()} is\", len(result))\n",
      "C:\\Users\\burce\\anaconda3\\envs\\sklearn-env\\Lib\\site-packages\\sklearn\\metrics\\_classification.py:1531: UndefinedMetricWarning: Precision is ill-defined and being set to 0.0 in labels with no predicted samples. Use `zero_division` parameter to control this behavior.\n",
      "  _warn_prf(average, modifier, f\"{metric.capitalize()} is\", len(result))\n",
      "C:\\Users\\burce\\anaconda3\\envs\\sklearn-env\\Lib\\site-packages\\sklearn\\metrics\\_classification.py:1531: UndefinedMetricWarning: Precision is ill-defined and being set to 0.0 in labels with no predicted samples. Use `zero_division` parameter to control this behavior.\n",
      "  _warn_prf(average, modifier, f\"{metric.capitalize()} is\", len(result))\n"
     ]
    }
   ],
   "source": [
    "from sklearn.naive_bayes import MultinomialNB\n",
    "from sklearn.metrics import accuracy_score, classification_report\n",
    "model = MultinomialNB()\n",
    "model.fit(X_train_tfidf, y_train)\n",
    "\n",
    "y_pred = model.predict(X_test_tfidf)\n",
    "\n",
    "print(classification_report(y_test, y_pred))"
   ]
  },
  {
   "cell_type": "code",
   "execution_count": 21,
   "id": "de489ca0-defc-4791-9a95-20857388b18c",
   "metadata": {},
   "outputs": [
    {
     "name": "stdout",
     "output_type": "stream",
     "text": [
      "              precision    recall  f1-score   support\n",
      "\n",
      "           1       0.50      0.84      0.62      5022\n",
      "           2       0.15      0.06      0.08      2302\n",
      "           3       0.22      0.10      0.14      2541\n",
      "           4       0.29      0.22      0.25      2635\n",
      "           7       0.25      0.19      0.21      2307\n",
      "           8       0.25      0.16      0.19      2850\n",
      "           9       0.17      0.06      0.09      2344\n",
      "          10       0.47      0.77      0.58      4999\n",
      "\n",
      "    accuracy                           0.40     25000\n",
      "   macro avg       0.29      0.30      0.27     25000\n",
      "weighted avg       0.33      0.40      0.34     25000\n",
      "\n"
     ]
    }
   ],
   "source": [
    "from sklearn.linear_model import SGDClassifier\n",
    "model = SGDClassifier()\n",
    "model.fit(X_train_tfidf, y_train)\n",
    "\n",
    "y_pred = model.predict(X_test_tfidf)\n",
    "\n",
    "print(classification_report(y_test, y_pred))"
   ]
  },
  {
   "cell_type": "code",
   "execution_count": 22,
   "id": "92139a17-d27d-4876-abc8-b57ff807d609",
   "metadata": {},
   "outputs": [
    {
     "name": "stdout",
     "output_type": "stream",
     "text": [
      "              precision    recall  f1-score   support\n",
      "\n",
      "           1       0.47      0.87      0.61      5022\n",
      "           2       0.13      0.04      0.06      2302\n",
      "           3       0.20      0.11      0.14      2541\n",
      "           4       0.29      0.18      0.22      2635\n",
      "           7       0.25      0.21      0.23      2307\n",
      "           8       0.26      0.15      0.19      2850\n",
      "           9       0.17      0.06      0.09      2344\n",
      "          10       0.49      0.73      0.58      4999\n",
      "\n",
      "    accuracy                           0.40     25000\n",
      "   macro avg       0.28      0.29      0.26     25000\n",
      "weighted avg       0.32      0.40      0.33     25000\n",
      "\n"
     ]
    }
   ],
   "source": [
    "model = SGDClassifier(loss='hinge', penalty='l2',alpha=1e-3, random_state=42, max_iter=5, tol=None)\n",
    "model.fit(X_train_tfidf, y_train)\n",
    "\n",
    "y_pred = model.predict(X_test_tfidf)\n",
    "\n",
    "print(classification_report(y_test, y_pred))"
   ]
  },
  {
   "cell_type": "code",
   "execution_count": 23,
   "id": "c161d38a-b740-439b-9548-4f027ed3f10e",
   "metadata": {},
   "outputs": [
    {
     "name": "stdout",
     "output_type": "stream",
     "text": [
      "              precision    recall  f1-score   support\n",
      "\n",
      "           1       0.51      0.82      0.63      5022\n",
      "           2       0.22      0.05      0.09      2302\n",
      "           3       0.28      0.13      0.18      2541\n",
      "           4       0.31      0.30      0.31      2635\n",
      "           7       0.30      0.21      0.25      2307\n",
      "           8       0.26      0.24      0.25      2850\n",
      "           9       0.20      0.04      0.07      2344\n",
      "          10       0.47      0.76      0.58      4999\n",
      "\n",
      "    accuracy                           0.42     25000\n",
      "   macro avg       0.32      0.32      0.29     25000\n",
      "weighted avg       0.36      0.42      0.36     25000\n",
      "\n"
     ]
    },
    {
     "name": "stderr",
     "output_type": "stream",
     "text": [
      "C:\\Users\\burce\\anaconda3\\envs\\sklearn-env\\Lib\\site-packages\\sklearn\\linear_model\\_logistic.py:469: ConvergenceWarning: lbfgs failed to converge (status=1):\n",
      "STOP: TOTAL NO. of ITERATIONS REACHED LIMIT.\n",
      "\n",
      "Increase the number of iterations (max_iter) or scale the data as shown in:\n",
      "    https://scikit-learn.org/stable/modules/preprocessing.html\n",
      "Please also refer to the documentation for alternative solver options:\n",
      "    https://scikit-learn.org/stable/modules/linear_model.html#logistic-regression\n",
      "  n_iter_i = _check_optimize_result(\n"
     ]
    }
   ],
   "source": [
    "from sklearn.linear_model import LogisticRegression\n",
    "model = LogisticRegression()\n",
    "model.fit(X_train_tfidf, y_train)\n",
    "\n",
    "y_pred = model.predict(X_test_tfidf)\n",
    "\n",
    "print(classification_report(y_test, y_pred))"
   ]
  },
  {
   "cell_type": "code",
   "execution_count": 24,
   "id": "c351c3ae-52a4-4b39-b381-d8ac8798341b",
   "metadata": {},
   "outputs": [
    {
     "name": "stdout",
     "output_type": "stream",
     "text": [
      "              precision    recall  f1-score   support\n",
      "\n",
      "           1       0.50      0.81      0.62      5022\n",
      "           2       0.20      0.04      0.07      2302\n",
      "           3       0.25      0.10      0.14      2541\n",
      "           4       0.32      0.30      0.31      2635\n",
      "           7       0.28      0.21      0.24      2307\n",
      "           8       0.26      0.22      0.24      2850\n",
      "           9       0.20      0.04      0.06      2344\n",
      "          10       0.46      0.78      0.58      4999\n",
      "\n",
      "    accuracy                           0.41     25000\n",
      "   macro avg       0.31      0.31      0.28     25000\n",
      "weighted avg       0.34      0.41      0.35     25000\n",
      "\n"
     ]
    }
   ],
   "source": [
    "model = LogisticRegression(C = 1, max_iter = 500, penalty = 'l1', solver = 'liblinear')\n",
    "model.fit(X_train_tfidf, y_train)\n",
    "\n",
    "y_pred = model.predict(X_test_tfidf)\n",
    "\n",
    "print(classification_report(y_test, y_pred))"
   ]
  },
  {
   "cell_type": "code",
   "execution_count": 25,
   "id": "8982c3f4-1169-4c69-9648-14672e9e19fa",
   "metadata": {},
   "outputs": [
    {
     "name": "stdout",
     "output_type": "stream",
     "text": [
      "0:\tlearn: 2.0344698\ttotal: 896ms\tremaining: 14m 54s\n",
      "100:\tlearn: 1.6024380\ttotal: 50.7s\tremaining: 7m 31s\n",
      "200:\tlearn: 1.5048700\ttotal: 1m 30s\tremaining: 5m 58s\n",
      "300:\tlearn: 1.4483455\ttotal: 2m 3s\tremaining: 4m 47s\n",
      "400:\tlearn: 1.4142516\ttotal: 2m 32s\tremaining: 3m 47s\n",
      "500:\tlearn: 1.3867305\ttotal: 3m\tremaining: 2m 59s\n",
      "600:\tlearn: 1.3634177\ttotal: 3m 28s\tremaining: 2m 18s\n",
      "700:\tlearn: 1.3465033\ttotal: 3m 54s\tremaining: 1m 40s\n",
      "800:\tlearn: 1.3301809\ttotal: 4m 21s\tremaining: 1m 5s\n",
      "900:\tlearn: 1.3139817\ttotal: 4m 49s\tremaining: 31.8s\n",
      "999:\tlearn: 1.3010085\ttotal: 5m 15s\tremaining: 0us\n"
     ]
    },
    {
     "data": {
      "text/plain": [
       "<catboost.core.CatBoostClassifier at 0x215f9394b60>"
      ]
     },
     "execution_count": 25,
     "metadata": {},
     "output_type": "execute_result"
    }
   ],
   "source": [
    "from catboost import CatBoostClassifier\n",
    "model =  CatBoostClassifier(iterations=1000, learning_rate=0.1, depth=6, verbose=100, task_type='GPU')\n",
    "model.fit(X_train_tfidf, y_train)"
   ]
  },
  {
   "cell_type": "code",
   "execution_count": 26,
   "id": "5042a687-9313-4bbd-8542-e26df756051a",
   "metadata": {},
   "outputs": [],
   "source": [
    "y_pred = model.predict(X_test_tfidf)"
   ]
  },
  {
   "cell_type": "code",
   "execution_count": 27,
   "id": "7abbc59e-5ab2-4fa7-b685-4a55afd9fc1b",
   "metadata": {},
   "outputs": [
    {
     "name": "stdout",
     "output_type": "stream",
     "text": [
      "              precision    recall  f1-score   support\n",
      "\n",
      "           1       0.49      0.80      0.61      5022\n",
      "           2       0.22      0.03      0.05      2302\n",
      "           3       0.28      0.10      0.14      2541\n",
      "           4       0.32      0.31      0.32      2635\n",
      "           7       0.30      0.22      0.26      2307\n",
      "           8       0.27      0.22      0.24      2850\n",
      "           9       0.26      0.03      0.05      2344\n",
      "          10       0.44      0.78      0.56      4999\n",
      "\n",
      "    accuracy                           0.41     25000\n",
      "   macro avg       0.32      0.31      0.28     25000\n",
      "weighted avg       0.35      0.41      0.34     25000\n",
      "\n"
     ]
    }
   ],
   "source": [
    "print(classification_report(y_test, y_pred))"
   ]
  },
  {
   "cell_type": "code",
   "execution_count": 28,
   "id": "7641039a-3e99-4b68-a280-046f0ebea6e7",
   "metadata": {},
   "outputs": [],
   "source": [
    "data_full = pd.DataFrame()\n",
    "data_full['X_train'] = pd.concat([data_train['train_text'], data_test['test_text']], ignore_index = True)\n",
    "data_full['y_train'] = pd.concat([data_train['train_labels'], data_test['test_labels']], ignore_index = True)"
   ]
  },
  {
   "cell_type": "code",
   "execution_count": 29,
   "id": "d4ad6958-a707-4d4c-b238-a9dd0fefea09",
   "metadata": {},
   "outputs": [],
   "source": [
    "from sklearn.model_selection import train_test_split"
   ]
  },
  {
   "cell_type": "code",
   "execution_count": 35,
   "id": "372c55d0-fa10-4c0a-a39f-02e7b6279973",
   "metadata": {},
   "outputs": [
    {
     "name": "stdout",
     "output_type": "stream",
     "text": [
      "MultinomialNB: test_size = 0.5 , train_size = 0.5 ,  Accuracy: 0.34664\n",
      "MultinomialNB: test_size = 0.4 , train_size = 0.6 ,  Accuracy: 0.3529\n",
      "MultinomialNB: test_size = 0.3 , train_size = 0.7 ,  Accuracy: 0.3566\n",
      "MultinomialNB: test_size = 0.2 , train_size = 0.8 ,  Accuracy: 0.3538\n",
      "MultinomialNB: test_size = 0.09999999999999998 , train_size = 0.9 ,  Accuracy: 0.3586\n"
     ]
    }
   ],
   "source": [
    "for i in range(5):\n",
    "    X_train, X_test, y_train, y_test = train_test_split(data_full['X_train'], data_full['y_train'], test_size = 0.5 - i / 10, random_state = 42)\n",
    "    model = MultinomialNB()\n",
    "    vectorizer = TfidfVectorizer()\n",
    "    X_train_tfidf = vectorizer.fit_transform(X_train)\n",
    "    X_test_tfidf = vectorizer.transform(X_test)\n",
    "    model.fit(X_train_tfidf, y_train)\n",
    "    y_pred = model.predict(X_test_tfidf)\n",
    "    print(f'MultinomialNB: test_size = {0.5 - i / 10} , train_size = {1 - 0.5 + i / 10} ,  Accuracy: {accuracy_score(y_test, y_pred)}')"
   ]
  },
  {
   "cell_type": "code",
   "execution_count": 38,
   "id": "55235041-6b0c-4344-bc7a-2e5b9818a735",
   "metadata": {},
   "outputs": [
    {
     "name": "stdout",
     "output_type": "stream",
     "text": [
      "SGDClassifier: test_size = 0.5 , train_size = 0.5 ,  Accuracy: 0.41056\n",
      "SGDClassifier: test_size = 0.4 , train_size = 0.6 ,  Accuracy: 0.4176\n",
      "SGDClassifier: test_size = 0.3 , train_size = 0.7 ,  Accuracy: 0.41906666666666664\n",
      "SGDClassifier: test_size = 0.2 , train_size = 0.8 ,  Accuracy: 0.4158\n",
      "SGDClassifier: test_size = 0.09999999999999998 , train_size = 0.9 ,  Accuracy: 0.4214\n"
     ]
    }
   ],
   "source": [
    "for i in range(5):\n",
    "    X_train, X_test, y_train, y_test = train_test_split(data_full['X_train'], data_full['y_train'], test_size = 0.5 - i / 10, random_state = 42)\n",
    "    model = SGDClassifier()\n",
    "    vectorizer = TfidfVectorizer()\n",
    "    X_train_tfidf = vectorizer.fit_transform(X_train)\n",
    "    X_test_tfidf = vectorizer.transform(X_test)\n",
    "    model.fit(X_train_tfidf, y_train)\n",
    "    y_pred = model.predict(X_test_tfidf)\n",
    "    print(f'SGDClassifier: test_size = {0.5 - i / 10} , train_size = {1 - 0.5 + i / 10} ,  Accuracy: {accuracy_score(y_test, y_pred)}')"
   ]
  },
  {
   "cell_type": "code",
   "execution_count": 40,
   "id": "856708a1-0585-4312-a523-e486c37b0f3b",
   "metadata": {},
   "outputs": [
    {
     "name": "stdout",
     "output_type": "stream",
     "text": [
      "LogisticRegression: test_size = 0.5 , train_size = 0.5 ,  Accuracy: 0.42428\n",
      "LogisticRegression: test_size = 0.4 , train_size = 0.6 ,  Accuracy: 0.42845\n",
      "LogisticRegression: test_size = 0.3 , train_size = 0.7 ,  Accuracy: 0.4295333333333333\n",
      "LogisticRegression: test_size = 0.2 , train_size = 0.8 ,  Accuracy: 0.4256\n",
      "LogisticRegression: test_size = 0.09999999999999998 , train_size = 0.9 ,  Accuracy: 0.4372\n"
     ]
    }
   ],
   "source": [
    "for i in range(5):\n",
    "    X_train, X_test, y_train, y_test = train_test_split(data_full['X_train'], data_full['y_train'], test_size = 0.5 - i / 10, random_state = 42)\n",
    "    model = LogisticRegression(max_iter = 300)\n",
    "    vectorizer = TfidfVectorizer()\n",
    "    X_train_tfidf = vectorizer.fit_transform(X_train)\n",
    "    X_test_tfidf = vectorizer.transform(X_test)\n",
    "    model.fit(X_train_tfidf, y_train)\n",
    "    y_pred = model.predict(X_test_tfidf)\n",
    "    print(f'LogisticRegression: test_size = {0.5 - i / 10} , train_size = {1 - 0.5 + i / 10} ,  Accuracy: {accuracy_score(y_test, y_pred)}')"
   ]
  },
  {
   "cell_type": "markdown",
   "id": "d6189cec-a498-46e1-aba8-21e2339b7ba5",
   "metadata": {},
   "source": [
    "＼（〇_ｏ）／"
   ]
  }
 ],
 "metadata": {
  "kernelspec": {
   "display_name": "Python 3 (ipykernel)",
   "language": "python",
   "name": "python3"
  },
  "language_info": {
   "codemirror_mode": {
    "name": "ipython",
    "version": 3
   },
   "file_extension": ".py",
   "mimetype": "text/x-python",
   "name": "python",
   "nbconvert_exporter": "python",
   "pygments_lexer": "ipython3",
   "version": "3.12.6"
  }
 },
 "nbformat": 4,
 "nbformat_minor": 5
}
