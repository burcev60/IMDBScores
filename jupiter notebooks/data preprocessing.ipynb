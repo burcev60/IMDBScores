{
 "cells": [
  {
   "cell_type": "code",
   "execution_count": 1,
   "id": "93eed201-5977-4d82-a3b5-98754e05c1d9",
   "metadata": {},
   "outputs": [],
   "source": [
    "import pandas as pd\n",
    "import numpy as np\n",
    "\n",
    "import os\n",
    "\n",
    "import string\n",
    "import re\n",
    "import nltk\n",
    "from nltk.corpus import stopwords\n",
    "from nltk.tokenize import word_tokenize\n",
    "from nltk.stem import WordNetLemmatizer\n",
    "from nltk.tokenize.toktok import ToktokTokenizer\n",
    "from nltk.stem import SnowballStemmer"
   ]
  },
  {
   "cell_type": "code",
   "execution_count": 2,
   "id": "7d877ee9-a43c-48a2-9ac4-1214395982bf",
   "metadata": {},
   "outputs": [],
   "source": [
    "train_pos_path = 'aclImdb\\\\train\\\\pos'\n",
    "train_neg_path = 'aclImdb\\\\train\\\\neg'\n",
    "test_pos_path = 'aclImdb\\\\test\\\\pos'\n",
    "test_neg_path = 'aclImdb\\\\test\\\\neg'"
   ]
  },
  {
   "cell_type": "code",
   "execution_count": 3,
   "id": "842bb2c5-9180-4387-a81f-91f03b8d91d3",
   "metadata": {},
   "outputs": [],
   "source": [
    "corpus_train = []\n",
    "corpus_test = []\n",
    "labels_train = []\n",
    "labels_test = []"
   ]
  },
  {
   "cell_type": "code",
   "execution_count": 4,
   "id": "204e8ec6-c61d-4c92-9c07-4f3bbcc33c2d",
   "metadata": {},
   "outputs": [
    {
     "name": "stdout",
     "output_type": "stream",
     "text": [
      "CPU times: total: 1.38 s\n",
      "Wall time: 2min 40s\n"
     ]
    }
   ],
   "source": [
    "%%time\n",
    "for fname in os.listdir(train_pos_path):\n",
    "    with open (os.path.join(train_pos_path, fname), 'r', encoding='utf-8') as f:\n",
    "        labels_train.append(int(fname.split('_')[1].split('.')[0]))\n",
    "        corpus_train.append(f.read())\n",
    "\n",
    "for fname in os.listdir(train_neg_path):\n",
    "    with open (os.path.join(train_neg_path, fname), 'r', encoding='utf-8') as f:\n",
    "        labels_train.append(int(fname.split('_')[1].split('.')[0]))\n",
    "        corpus_train.append(f.read())\n",
    "\n",
    "for fname in os.listdir(test_pos_path):\n",
    "    with open (os.path.join(test_pos_path, fname), 'r', encoding='utf-8') as f:\n",
    "        labels_test.append(int(fname.split('_')[1].split('.')[0]))\n",
    "        corpus_test.append(f.read())\n",
    "\n",
    "for fname in os.listdir(test_neg_path):\n",
    "    with open (os.path.join(test_neg_path, fname), 'r', encoding='utf-8') as f:\n",
    "        labels_test.append(int(fname.split('_')[1].split('.')[0]))\n",
    "        corpus_test.append(f.read())"
   ]
  },
  {
   "cell_type": "code",
   "execution_count": 5,
   "id": "643567d9-af6b-46f6-9436-144a74b3818c",
   "metadata": {},
   "outputs": [],
   "source": [
    "data_train = pd.DataFrame({'train_text' : corpus_train, 'train_labels' : labels_train })"
   ]
  },
  {
   "cell_type": "code",
   "execution_count": 6,
   "id": "074dcd2b-6db3-4c4d-9052-e71962e550cc",
   "metadata": {},
   "outputs": [],
   "source": [
    "data_test = pd.DataFrame({'test_text' : corpus_test, 'test_labels' : labels_test})"
   ]
  },
  {
   "cell_type": "code",
   "execution_count": 7,
   "id": "36ef328a-cfc7-4972-904c-358454c6897d",
   "metadata": {},
   "outputs": [
    {
     "name": "stderr",
     "output_type": "stream",
     "text": [
      "C:\\Users\\burce\\AppData\\Local\\Temp\\ipykernel_21768\\859156899.py:3: MarkupResemblesLocatorWarning: The input looks more like a filename than markup. You may want to open this file and pass the filehandle into Beautiful Soup.\n",
      "  soup = BeautifulSoup(text, \"html.parser\")\n"
     ]
    }
   ],
   "source": [
    "from bs4 import BeautifulSoup\n",
    "def strip_html(text):\n",
    "    soup = BeautifulSoup(text, \"html.parser\")\n",
    "    return soup.get_text()\n",
    "def remove_between_square_brackets(text):\n",
    "    return re.sub('\\\\[[^]]*\\\\]', '', text)\n",
    "def denoise_text(text):\n",
    "    text = strip_html(text)\n",
    "    text = remove_between_square_brackets(text)\n",
    "    return text\n",
    "data_train['train_text'] = data_train['train_text'].apply(denoise_text)\n",
    "data_test['test_text'] = data_test['test_text'].apply(denoise_text)"
   ]
  },
  {
   "cell_type": "code",
   "execution_count": 10,
   "id": "1cabe358-e2f3-4453-8836-f6053d8be3ad",
   "metadata": {},
   "outputs": [],
   "source": [
    "def remove_special_characters(text, remove_digits=True):\n",
    "    pattern=r'[^a-z\\s]'\n",
    "    text=re.sub(pattern,'',text)\n",
    "    return text\n",
    "data_train['train_text'] = data_train['train_text'].apply(remove_special_characters)\n",
    "data_test['test_text'] = data_test['test_text'].apply(remove_special_characters)"
   ]
  },
  {
   "cell_type": "code",
   "execution_count": 11,
   "id": "113ecc60-aa18-4879-b490-f52f08537f21",
   "metadata": {},
   "outputs": [],
   "source": [
    "def remove_punctuation(text):\n",
    "    text = ''.join([char for char in text if char not in string.punctuation])\n",
    "    return text\n",
    "data_train['train_text'] = data_train['train_text'].apply(remove_punctuation)\n",
    "data_test['test_text'] = data_test['test_text'].apply(remove_punctuation)"
   ]
  },
  {
   "cell_type": "code",
   "execution_count": 13,
   "id": "fd59fb3c-2326-41f1-8f74-1882cb646220",
   "metadata": {},
   "outputs": [
    {
     "name": "stderr",
     "output_type": "stream",
     "text": [
      "[nltk_data] Downloading package stopwords to\n",
      "[nltk_data]     C:\\Users\\burce\\AppData\\Roaming\\nltk_data...\n",
      "[nltk_data]   Unzipping corpora\\stopwords.zip.\n"
     ]
    },
    {
     "data": {
      "text/plain": [
       "True"
      ]
     },
     "execution_count": 13,
     "metadata": {},
     "output_type": "execute_result"
    }
   ],
   "source": [
    "nltk.download('stopwords')"
   ]
  },
  {
   "cell_type": "code",
   "execution_count": 14,
   "id": "c04cde60-edea-4825-90f1-db0e5a36bd2f",
   "metadata": {},
   "outputs": [],
   "source": [
    "def remove_stopwords(text, is_lower_case=False):\n",
    "    tokenizer=ToktokTokenizer()\n",
    "    stopword_list=nltk.corpus.stopwords.words('english')\n",
    "    tokens = tokenizer.tokenize(text)\n",
    "    tokens = [token.strip() for token in tokens]\n",
    "    if is_lower_case:\n",
    "        filtered_tokens = [token for token in tokens if token not in stopword_list]\n",
    "    else:\n",
    "        filtered_tokens = [token for token in tokens if token.lower() not in stopword_list]\n",
    "    filtered_text = ' '.join(filtered_tokens)    \n",
    "    return filtered_text\n",
    "\n",
    "data_train['train_text'] = data_train['train_text'].apply(remove_stopwords)\n",
    "data_test['test_text'] = data_test['test_text'].apply(remove_stopwords)\n"
   ]
  },
  {
   "cell_type": "code",
   "execution_count": 15,
   "id": "9c756897-ec47-4e3d-a1f4-d22ebb17a7f3",
   "metadata": {},
   "outputs": [],
   "source": [
    "stemmer = SnowballStemmer('english')\n",
    "def stem_text(text):\n",
    "    stemmer = SnowballStemmer('english')\n",
    "    words = text.split()\n",
    "    return ' '.join([stemmer.stem(word) for word in words])\n",
    "data_train['train_text'] = data_train['train_text'].apply(stem_text)\n",
    "data_test['test_text'] = data_test['test_text'].apply(stem_text)"
   ]
  },
  {
   "cell_type": "code",
   "execution_count": 16,
   "id": "46f94776-1429-4412-b10f-2ae86128a7bb",
   "metadata": {},
   "outputs": [],
   "source": [
    "data_train.to_csv('data_train.csv')"
   ]
  },
  {
   "cell_type": "code",
   "execution_count": 17,
   "id": "d7a9874e-3729-4e64-ba17-c57f7c232af8",
   "metadata": {},
   "outputs": [],
   "source": [
    "data_test.to_csv('data_test.csv')"
   ]
  }
 ],
 "metadata": {
  "kernelspec": {
   "display_name": "Python 3 (ipykernel)",
   "language": "python",
   "name": "python3"
  },
  "language_info": {
   "codemirror_mode": {
    "name": "ipython",
    "version": 3
   },
   "file_extension": ".py",
   "mimetype": "text/x-python",
   "name": "python",
   "nbconvert_exporter": "python",
   "pygments_lexer": "ipython3",
   "version": "3.12.6"
  }
 },
 "nbformat": 4,
 "nbformat_minor": 5
}
