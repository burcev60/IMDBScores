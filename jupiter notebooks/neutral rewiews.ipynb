{
 "cells": [
  {
   "cell_type": "code",
   "execution_count": 1,
   "id": "48a92ff1-9dfc-43ca-b069-d39d752f2a1b",
   "metadata": {},
   "outputs": [],
   "source": [
    "import pandas as pd\n",
    "import numpy as np\n",
    "import os\n",
    "import random\n",
    "\n",
    "import string\n",
    "import nltk\n",
    "from nltk.corpus import stopwords\n",
    "from nltk.tokenize import word_tokenize\n",
    "from nltk.stem import WordNetLemmatizer\n",
    "import re"
   ]
  },
  {
   "cell_type": "code",
   "execution_count": 2,
   "id": "f1fdf910-d800-4504-b505-630a11de977d",
   "metadata": {},
   "outputs": [],
   "source": [
    "#pos_rewiews_path = 'aclImdb\\\\train\\\\pos'\n",
    "#neg_rewiews_path = 'aclImdb\\\\train\\\\neg'\n",
    "pos_rewiews_path = 'aclImdb\\\\test\\\\pos'\n",
    "neg_rewiews_path = 'aclImdb\\\\test\\\\neg'"
   ]
  },
  {
   "cell_type": "code",
   "execution_count": 3,
   "id": "1452b762-7c64-4ded-8d15-0675fff05c63",
   "metadata": {},
   "outputs": [],
   "source": [
    "pos_corpus = []\n",
    "neg_corpus = []\n",
    "pos_vocab = []\n",
    "neg_vocab = []"
   ]
  },
  {
   "cell_type": "code",
   "execution_count": null,
   "id": "f5447226-59bc-4047-a425-8438b10b8eb7",
   "metadata": {},
   "outputs": [],
   "source": [
    "#Для генерации нейтральных комментариев пробегаемся по текстам с оценками 4 и 7, предобрабатываем и собираем словари уникальных слов"
   ]
  },
  {
   "cell_type": "code",
   "execution_count": null,
   "id": "78d70f53-215a-4650-acc7-7dcc8d88e700",
   "metadata": {},
   "outputs": [],
   "source": [
    "for fname in os.listdir(pos_rewiews_path):\n",
    "    with open (os.path.join(pos_rewiews_path, fname), 'r', encoding='utf-8') as f:\n",
    "        score = int(fname.split('_')[1].split('.')[0])\n",
    "        if score == 7:\n",
    "            text = f.read().lower() #привидение к нижнему регистру\n",
    "            text = text.replace(\"<br>\", \"\")\n",
    "            text = ''.join([char for char in text if char not in string.punctuation]) #удаление знаков препинания\n",
    "            text = re.sub(r'\\d+', ' ', text) # удаление чисел\n",
    "            text = re.sub(r'\\b[^a-zA-ZéÉ]+\\b', ' ', text) # удаление слов с не английскими буквами\n",
    "            text = re.sub(r'\\b[a-z]*([a-z])\\1{2}[a-z]*\\b', ' ', text) # удаление слов с несколькими повторяющимися подряд одинаковыми буквами\n",
    "            tokens = word_tokenize(text) #токенизация\n",
    "            stop_words = set(stopwords.words('english'))  # удаление стоп слов        \n",
    "            tokens = [word for word in tokens if word not in stop_words]        \n",
    "\n",
    "            pos_corpus.append(' '.join(tokens))\n",
    "        "
   ]
  },
  {
   "cell_type": "code",
   "execution_count": 6,
   "id": "f1df575d-9248-4070-a3f4-38922cffe063",
   "metadata": {},
   "outputs": [],
   "source": [
    "for fname in os.listdir(neg_rewiews_path):\n",
    "    with open (os.path.join(neg_rewiews_path, fname), 'r', encoding='utf-8') as f:\n",
    "        score = int(fname.split('_')[1].split('.')[0])\n",
    "        if score == 4:\n",
    "            text = f.read().lower() #привидение к нижнему регистру\n",
    "            text = ''.join([char for char in text if char not in string.punctuation]) #удаление знаков препинания\n",
    "            text = re.sub(r'\\d+', ' ', text)\n",
    "            text = re.sub(r'\\b[^a-zA-ZéÉ]+\\b', ' ', text)\n",
    "            text = re.sub(r'\\b[a-z]*([a-z])\\1{2}[a-z]*\\b', ' ', text)\n",
    "            tokens = word_tokenize(text) #токенизация\n",
    "            stop_words = set(stopwords.words('english'))  # удаление стоп слов\n",
    "            tokens = [word for word in tokens if word not in stop_words]\n",
    "        \n",
    "            neg_corpus.append(' '.join(tokens))"
   ]
  },
  {
   "cell_type": "code",
   "execution_count": 5,
   "id": "bbd3ab77-959f-40ed-aa84-b09f706fdd17",
   "metadata": {},
   "outputs": [],
   "source": [
    "pos_vocab = set(word for text in pos_corpus for word in text.split())\n",
    "neg_vocab = set(word for text in neg_corpus for word in text.split())"
   ]
  },
  {
   "cell_type": "code",
   "execution_count": null,
   "id": "0788cff7-5083-4cb8-98ab-6bc32754a53e",
   "metadata": {},
   "outputs": [],
   "source": [
    "#функция замены слов в текстах по словарю"
   ]
  },
  {
   "cell_type": "code",
   "execution_count": 9,
   "id": "ba83c46e-9e21-47b2-8614-55ff64ad8545",
   "metadata": {},
   "outputs": [],
   "source": [
    "def replace_with_words(text, words, replacement_percentage=0.1):\n",
    "    words = text.split()\n",
    "    num_replacements = max(1, int(len(words) * replacement_percentage))\n",
    "    indices_to_replace = random.sample(range(len(words)), num_replacements)\n",
    "    \n",
    "    for idx in indices_to_replace:\n",
    "        words[idx] = random.choice(words)\n",
    "        \n",
    "    return ' '.join(words)"
   ]
  },
  {
   "cell_type": "code",
   "execution_count": null,
   "id": "c6db9efa-103f-4c98-a8f5-3771c508bc4a",
   "metadata": {},
   "outputs": [],
   "source": [
    "#генерируем позитивные комментарии с оценкой 6"
   ]
  },
  {
   "cell_type": "code",
   "execution_count": 10,
   "id": "a7fcd4fd-e108-44ef-b071-35ec00a08d9e",
   "metadata": {},
   "outputs": [],
   "source": [
    "pos_corpus_6 = []"
   ]
  },
  {
   "cell_type": "code",
   "execution_count": 11,
   "id": "facd3462-4136-4736-8e47-1c701b8e79c8",
   "metadata": {},
   "outputs": [],
   "source": [
    "for text in pos_corpus:\n",
    "    pos_corpus_6.append(replace_with_words(text, neg_vocab))"
   ]
  },
  {
   "cell_type": "code",
   "execution_count": null,
   "id": "a698c5d2-5609-43aa-b6fc-b048c8565de0",
   "metadata": {},
   "outputs": [],
   "source": [
    "#генерируем негативные комментраии с оценкой 5"
   ]
  },
  {
   "cell_type": "code",
   "execution_count": 12,
   "id": "2a1e309b-9c8a-490c-b0f5-5d35b319c0e7",
   "metadata": {},
   "outputs": [],
   "source": [
    "neg_corpus_5 = []"
   ]
  },
  {
   "cell_type": "code",
   "execution_count": 13,
   "id": "429ec749-434c-40b9-aaf8-74490e10ec2b",
   "metadata": {},
   "outputs": [],
   "source": [
    "for text in neg_corpus:\n",
    "    neg_corpus_5.append(replace_with_words(text, pos_vocab))"
   ]
  },
  {
   "cell_type": "code",
   "execution_count": null,
   "id": "0d31468b-aee7-4476-8930-b994d343488b",
   "metadata": {},
   "outputs": [],
   "source": [
    "#сохраняем результаты в директориях "
   ]
  },
  {
   "cell_type": "code",
   "execution_count": 16,
   "id": "773b9f2b-911b-4c6f-9cb5-334a2116b06d",
   "metadata": {},
   "outputs": [],
   "source": [
    "output_directory = 'aclImdb\\\\test\\\\pos_6\\\\'\n",
    "for i, text in enumerate(pos_corpus_6):\n",
    "    filename = f\"{output_directory}{i}_6.txt\"  \n",
    "        with open(filename, 'w', encoding='utf-8') as file:\n",
    "        file.write(text)"
   ]
  },
  {
   "cell_type": "code",
   "execution_count": 15,
   "id": "4374059e-3510-4b35-a36b-1b28fdff34ba",
   "metadata": {},
   "outputs": [],
   "source": [
    "'''output_directory = 'aclImdb\\\\test\\\\neg_5\\\\'\n",
    "for i, text in enumerate(neg_corpus_5):\n",
    "    filename = f\"{output_directory}{i}_5.txt\"  \n",
    "    with open(filename, 'w', encoding='utf-8') as file:\n",
    "        file.write(text)'''"
   ]
  },
  {
   "cell_type": "code",
   "execution_count": null,
   "id": "a069c80e-8fc0-4648-9d4c-fc6d0991780f",
   "metadata": {},
   "outputs": [],
   "source": [
    "#так удалось сгенерировать новые отзывы для тестовой выборки,\n",
    "#повторяем все то же самое меняя директории для сохранения текстов для тренировочной выборки"
   ]
  }
 ],
 "metadata": {
  "kernelspec": {
   "display_name": "Python 3 (ipykernel)",
   "language": "python",
   "name": "python3"
  },
  "language_info": {
   "codemirror_mode": {
    "name": "ipython",
    "version": 3
   },
   "file_extension": ".py",
   "mimetype": "text/x-python",
   "name": "python",
   "nbconvert_exporter": "python",
   "pygments_lexer": "ipython3",
   "version": "3.12.6"
  }
 },
 "nbformat": 4,
 "nbformat_minor": 5
}
